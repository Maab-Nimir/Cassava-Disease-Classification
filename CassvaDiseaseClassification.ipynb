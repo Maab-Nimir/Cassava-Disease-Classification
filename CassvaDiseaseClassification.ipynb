{
 "cells": [
  {
   "cell_type": "code",
   "execution_count": null,
   "metadata": {
    "id": "PPITXdKk1fxl"
   },
   "outputs": [],
   "source": [
    "#Imports\n",
    "import os\n",
    "import sys\n",
    "import glob\n",
    "import torch\n",
    "import torchvision\n",
    "\n",
    "import numpy    as np\n",
    "import datetime as dt\n",
    "import torch.nn as nn\n",
    "import torch.nn.functional as F\n",
    "import matplotlib.pyplot   as plt\n",
    "\n",
    "from PIL               import Image\n",
    "from torch.utils.data  import Dataset\n",
    "from torch.autograd    import Variable\n",
    "from torch.optim       import lr_scheduler\n",
    "\n",
    "from torch.utils.data  import WeightedRandomSampler, Dataset, DataLoader\n",
    "from torch.utils.data.sampler import SubsetRandomSampler\n",
    "from torchvision       import transforms, datasets, models\n",
    "from os                import listdir, makedirs, getcwd, remove\n",
    "from os.path           import isfile, join, abspath, exists, isdir, expanduser\n",
    "\n",
    "from torch import optim\n",
    "\n",
    "# %matplotlib inline"
   ]
  },
  {
   "cell_type": "code",
   "execution_count": null,
   "metadata": {
    "colab": {
     "base_uri": "https://localhost:8080/"
    },
    "id": "b_BUDVKr19vh",
    "outputId": "038cb9c9-8c38-49a7-ab94-3d3123f2985f"
   },
   "outputs": [
    {
     "name": "stdout",
     "output_type": "stream",
     "text": [
      "Mounted at /content/drive\n"
     ]
    }
   ],
   "source": [
    "# This assume that the data is contained in a google drive, you can modify this according to where your data is stored\n",
    "###########################################################################################\n",
    "###########################################################################################\n",
    "from google.colab import drive\n",
    "drive.mount('/content/drive')"
   ]
  },
  {
   "cell_type": "code",
   "execution_count": null,
   "metadata": {
    "id": "NB__yrzA1fxm"
   },
   "outputs": [],
   "source": [
    "data_path = \"/content/drive/MyDrive/ammi-2021-convnets\"\n",
    "train_path = join(data_path, \"train/train\")\n",
    "test_path = join(data_path,\"test/test\")\n",
    "extraimage_path = join(data_path, \"extraimages/extraimages\")\n",
    "###########################################################################################\n",
    "###########################################################################################\n"
   ]
  },
  {
   "cell_type": "code",
   "execution_count": null,
   "metadata": {
    "id": "pXRCPQIo1fxm"
   },
   "outputs": [],
   "source": [
    "###########################################################################################\n",
    "################# Transformations for both the training and testing data ##################\n",
    "###########################################################################################\n",
    "mean=[0.485, 0.456, 0.406]\n",
    "std=[0.229, 0.224, 0.225]\n",
    "\n",
    "normalize = transforms.Normalize(mean=mean, std=std)\n",
    "\n",
    "# Do data transforms here, you can try many others\n",
    "train_transforms = transforms.Compose([transforms.Resize(448),\n",
    "                                       #transforms.RandomRotation(30),\n",
    "                                       transforms.RandomHorizontalFlip(),\n",
    "                                       transforms.RandomResizedCrop(448),\n",
    "                                       transforms.ToTensor(),\n",
    "                                       normalize,\n",
    "                                      #  transforms.RandomErasing(),\n",
    "                                      ])\n",
    "\n",
    "test_transforms = transforms.Compose([ \n",
    "                                        transforms.Resize(448),\n",
    "                                       #transforms.RandomRotation(30),\n",
    "                                      #  transforms.RandomHorizontalFlip(),\n",
    "                                       transforms.CenterCrop(448),\n",
    "                                       transforms.ToTensor(),\n",
    "                                       normalize,\n",
    "                                     ])\n",
    "###########################################################################################\n",
    "###########################################################################################\n",
    "###########################################################################################\n"
   ]
  },
  {
   "cell_type": "code",
   "execution_count": null,
   "metadata": {
    "id": "ieRMpNUF1fxn"
   },
   "outputs": [],
   "source": [
    "###########################################################################################\n",
    "############################# Dataset Class and data loading ##############################\n",
    "###########################################################################################\n",
    "class CassavaDataset(Dataset):\n",
    "    def __init__(self, path, transform=None):\n",
    "        self.classes = os.listdir(path)\n",
    "        self.path = [f\"{path}/{className}\" for className in self.classes]\n",
    "        self.file_list = [glob.glob(f\"{x}/*\") for x in self.path]\n",
    "        self.transform = transform\n",
    "\n",
    "        files = []\n",
    "        for i, className in enumerate(self.classes):\n",
    "            for fileName in self.file_list[i]:\n",
    "                files.append([i, className, fileName])\n",
    "        self.file_list = files\n",
    "        files = None\n",
    "\n",
    "    def __len__(self):\n",
    "        return len(self.file_list)\n",
    "\n",
    "    def __getitem__(self, idx):\n",
    "        fileName = self.file_list[idx][2]\n",
    "        classCategory = self.file_list[idx][0]\n",
    "        im = Image.open(fileName)\n",
    "        if self.transform:\n",
    "            im = self.transform(im)\n",
    "            \n",
    "        return im.view(3, 448, 448), classCategory\n",
    "        "
   ]
  },
  {
   "cell_type": "code",
   "execution_count": null,
   "metadata": {
    "colab": {
     "base_uri": "https://localhost:8080/"
    },
    "id": "SmSbrhR91fxr",
    "outputId": "4988ef5d-e399-496d-8179-b961df818219"
   },
   "outputs": [
    {
     "name": "stdout",
     "output_type": "stream",
     "text": [
      "size of training 5656\n",
      "size of testing 3774\n"
     ]
    }
   ],
   "source": [
    "# Load the train and test set on a pytorch dataset object\n",
    "train_data = CassavaDataset(train_path, transform=train_transforms)\n",
    "test_data = CassavaDataset(test_path, transform=test_transforms)\n",
    "print(f\"size of training {len(train_data)}\")\n",
    "print(f\"size of testing {len(test_data)}\")\n"
   ]
  },
  {
   "cell_type": "code",
   "execution_count": null,
   "metadata": {
    "id": "j1mYSn0E1fxs"
   },
   "outputs": [],
   "source": [
    "# split the data into training and validation.\n",
    "import random\n",
    "validation_split = .2\n",
    "shuffle_dataset = True\n",
    "random_seed= 42\n",
    "BATCH_SIZE = 16\n",
    "\n",
    "torch.manual_seed(random_seed)\n",
    "random.seed(random_seed)\n",
    "np.random.seed(random_seed)\n",
    "\n",
    "# Creating data indices for training and validation splits:\n",
    "dataset_size = len(train_data)\n",
    "indices = list(range(dataset_size))\n",
    "split = int(np.floor(validation_split * dataset_size))\n",
    "\n",
    "if shuffle_dataset :\n",
    "    np.random.seed(random_seed)\n",
    "    np.random.shuffle(indices)\n",
    "train_indices, val_indices = indices[split:], indices[:split]\n"
   ]
  },
  {
   "cell_type": "code",
   "execution_count": null,
   "metadata": {
    "id": "HgaFCikA1fxs"
   },
   "outputs": [],
   "source": [
    "# Creating pytorch data samplers and loaders:\n",
    "torch.manual_seed(random_seed)\n",
    "random.seed(random_seed)\n",
    "np.random.seed(random_seed)\n",
    "\n",
    "train_sampler = SubsetRandomSampler(train_indices)\n",
    "valid_sampler = SubsetRandomSampler(val_indices)\n",
    "\n",
    "\n",
    "train_loader = torch.utils.data.DataLoader(train_data, batch_size=BATCH_SIZE,\n",
    "                                             sampler=train_sampler)\n",
    "valid_loader = torch.utils.data.DataLoader(train_data, batch_size=BATCH_SIZE,\n",
    "                                             sampler=valid_sampler)\n",
    "test_loader = torch.utils.data.DataLoader(test_data, batch_size=BATCH_SIZE)"
   ]
  },
  {
   "cell_type": "code",
   "execution_count": null,
   "metadata": {
    "colab": {
     "base_uri": "https://localhost:8080/"
    },
    "id": "iN-JoKpJ1fxs",
    "outputId": "6a6e4135-0ca4-485a-e54a-e970ac34d429"
   },
   "outputs": [
    {
     "data": {
      "text/plain": [
       "device(type='cuda', index=0)"
      ]
     },
     "execution_count": 11,
     "metadata": {
      "tags": []
     },
     "output_type": "execute_result"
    }
   ],
   "source": [
    "# Device configuration\n",
    "device = torch.device('cuda:0' if torch.cuda.is_available() else 'cpu')\n",
    "print(\"device: {device}\")\n",
    "###########################################################################################\n",
    "###########################################################################################\n",
    "###########################################################################################\n"
   ]
  },
  {
   "cell_type": "code",
   "execution_count": null,
   "metadata": {
    "id": "SCJC0AgE1fxt"
   },
   "outputs": [],
   "source": [
    "def train(model, criterion, data_loader, valid_loader, optimizer, num_epochs, fixed_params_epochs = -1):\n",
    "    \"\"\"\n",
    "    This Method runs the optimization loop for learning the parameters\n",
    "    Method parameters:\n",
    "    model: the model object.\n",
    "    criterion: the loss function.\n",
    "    data_loader: training data loader object.\n",
    "    valid_loader: validation data loader object.\n",
    "    optmizer: the optimizer object.\n",
    "    num_epochs: number of training epochs.\n",
    "    The function returns: \n",
    "    losses: a list that containes the loss for every epoch.\n",
    "    training_accuracies: a list that containes the traning accuracy for every epoch.\n",
    "    validation_accuracies: a list that containes the validation accuracy for every epoch.\n",
    "    \"\"\"\n",
    "    # Move model to the device (CPU or GPU).\n",
    "    model = model.to(device)\n",
    "    \n",
    "    # Exponential moving average of the loss.\n",
    "    ema_loss = None\n",
    "\n",
    "    # Losses list \n",
    "    losses = []\n",
    "    # training accuracy list\n",
    "    training_accuracies = []\n",
    "    # valid accuracy list\n",
    "    valid_accuracies = []\n",
    "\n",
    "    print('----- Training Loop -----')\n",
    "    # Loop over epochs.\n",
    "    for epoch in range(num_epochs):\n",
    "      # check the number of epochs to enable the gradient of the fearure extracter\n",
    "      if epoch > fixed_params_epochs:\n",
    "        for param in model.parameters():\n",
    "          param.requires_grad = True\n",
    "      # Make sure model is in training mode.\n",
    "      model.train()  \n",
    "      correct = 0\n",
    "      # Loop over data.\n",
    "      for batch_idx, (features, target) in enumerate(data_loader):\n",
    "        # Forward pass.\n",
    "        output = model(features.to(device))\n",
    "        loss = criterion(output, target.to(device))\n",
    "        \n",
    "        # Backward pass.\n",
    "        optimizer.zero_grad()\n",
    "        loss.backward()\n",
    "        optimizer.step()\n",
    "\n",
    "        # Compute the training accuracy\n",
    "        with torch.no_grad():\n",
    "          pred = output.argmax(dim=1, keepdim=True)\n",
    "              \n",
    "          # Count number of correct predictions.\n",
    "          correct += pred.cpu().eq(target.view_as(pred)).sum().item()\n",
    "      \n",
    "      # NOTE: It is important to call .item() on the loss before summing.\n",
    "        if ema_loss is None:\n",
    "            ema_loss = loss.item()\n",
    "        else:\n",
    "            ema_loss += (loss.item() - ema_loss) * 0.01\n",
    "\n",
    "      # Print out progress the end of epoch.\n",
    "      lr_sch.step()\n",
    "      train_score = 100. * correct / len(data_loader.sampler)\n",
    "      # Compute the validation accuracy\n",
    "      valid_score = test(model, valid_loader)\n",
    "      losses.append(ema_loss)\n",
    "      training_accuracies.append(train_score)\n",
    "      valid_accuracies.append(valid_score)\n",
    "      print('Epoch: {} \\tLoss: {:.12f} \\tTraining Accuracy: {:.12f} \\t Validation Accuracy: {:.12f}'.format(epoch, ema_loss, train_score, valid_score),)\n",
    "\n",
    "    return losses, training_accuracies, valid_accuracies\n",
    "  "
   ]
  },
  {
   "cell_type": "code",
   "execution_count": null,
   "metadata": {
    "id": "BbeWj2z-1fxu"
   },
   "outputs": [],
   "source": [
    "def test(model, data_loader, batch_size):\n",
    "    \"\"\"\n",
    "    This Method runs measure the model accuracy on a given dataset\n",
    "    Method parameters:\n",
    "    model: the model object.\n",
    "    data_loader: training data loader object.\n",
    "    The function returns: \n",
    "    percent: the model accuracy\n",
    "    \"\"\" \n",
    "    # Make sure the model is in evaluation mode.\n",
    "    model.eval()\n",
    "    correct = 0\n",
    "    # print('----- Model Evaluation -----')\n",
    "    # We do not need to maintain intermediate activations while testing.\n",
    "    with torch.no_grad():\n",
    "        # Loop over test data.\n",
    "        # torch.manual_seed(random_seed)\n",
    "        for features, target in data_loader:\n",
    "          \n",
    "            # Forward pass.\n",
    "            output = model(features.to(device))\n",
    "            \n",
    "            # Get the label corresponding to the highest predicted probability.\n",
    "            pred = output.argmax(dim=1, keepdim=True)\n",
    "            \n",
    "            # Count number of correct predictions.\n",
    "            correct += pred.cpu().eq(target.view_as(pred)).sum().item()\n",
    "\n",
    "    # Print test accuracy.\n",
    "    percent = 100. * correct / len(data_loader.sampler)\n",
    "    # print(f'Test accuracy: {correct} / {len(data_loader.dataset)} ({percent:.0f}%)')\n",
    "    torch.save(model.state_dict(), 'model.ckpt')\n",
    "    return percent\n",
    "    "
   ]
  },
  {
   "cell_type": "code",
   "execution_count": null,
   "metadata": {
    "id": "3pq9oH8s1fxu"
   },
   "outputs": [],
   "source": [
    "def plot(training_loss, training_score, valid_score):\n",
    "    \"\"\"\n",
    "    Plot the model training metrics.\n",
    "    Method parameters:\n",
    "    training_loss: a list that containes the loss for every epoch.\n",
    "    training_score: a list that containes the training accuracy for every epoch.\n",
    "    valid_score: a list that containes the validation accuracy for every epoch.\n",
    "    \"\"\"\n",
    "    epochs = range(1, len(training_loss)+1)\n",
    "    plt.title(\"Training Loss\")\n",
    "    plt.plot(epochs, training_loss)\n",
    "    plt.xlabel(\"Epochs\")\n",
    "    plt.ylabel(\"Training loss\")\n",
    "\n",
    "    plt.figure()\n",
    "    plt.plot(epochs, training_score, label=\"Train\")\n",
    "    plt.plot(epochs, valid_score, label=\"Validation\")\n",
    "    plt.xlabel(\"Epochs\")\n",
    "    plt.ylabel(\"Accuracy\")\n",
    "    plt.legend()\n",
    "###########################################################################################\n",
    "###########################################################################################\n",
    "###########################################################################################\n"
   ]
  },
  {
   "cell_type": "markdown",
   "metadata": {
    "id": "FN-FqrxP6_8Y"
   },
   "source": [
    "# ResNext50"
   ]
  },
  {
   "cell_type": "code",
   "execution_count": null,
   "metadata": {
    "colab": {
     "base_uri": "https://localhost:8080/",
     "height": 222,
     "referenced_widgets": [
      "6bd48104738145cd938f70c91a51cd5d",
      "38e555a271a14d729cae8b53544df902",
      "5c7da0bd6d774af3b65944ace1fd32ef",
      "bd5f94dd32524b8ba59b5503f082ea69",
      "862be8bc22de49a68d2b9ff4ade81cfa",
      "710d167f85e745a1b93dfb7779b4f5e3",
      "7446e7acdb7e451db354b8142c585605",
      "58341c5703664269a59c38f4cca2577d"
     ]
    },
    "id": "tWgbIhSI6_ft",
    "outputId": "a8724946-fc81-4962-8cb3-3ffcb27c69da"
   },
   "outputs": [
    {
     "name": "stderr",
     "output_type": "stream",
     "text": [
      "Downloading: \"https://download.pytorch.org/models/resnext50_32x4d-7cdf4587.pth\" to /root/.cache/torch/hub/checkpoints/resnext50_32x4d-7cdf4587.pth\n"
     ]
    },
    {
     "data": {
      "application/vnd.jupyter.widget-view+json": {
       "model_id": "6bd48104738145cd938f70c91a51cd5d",
       "version_major": 2,
       "version_minor": 0
      },
      "text/plain": [
       "HBox(children=(FloatProgress(value=0.0, max=100441675.0), HTML(value='')))"
      ]
     },
     "metadata": {
      "tags": []
     },
     "output_type": "display_data"
    },
    {
     "name": "stdout",
     "output_type": "stream",
     "text": [
      "\n",
      "----- Training Loop -----\n",
      "Epoch: 0 \tLoss: 0.664435334949 \tTraining Accuracy: 77.657458563536 \t Validation Accuracy: 86.472148541114\n",
      "Epoch: 1 \tLoss: 0.502599893240 \tTraining Accuracy: 83.226519337017 \t Validation Accuracy: 85.499557913351\n",
      "Epoch: 2 \tLoss: 0.455088780058 \tTraining Accuracy: 85.038674033149 \t Validation Accuracy: 84.969053934571\n",
      "Epoch: 3 \tLoss: 0.416408500815 \tTraining Accuracy: 86.276243093923 \t Validation Accuracy: 89.566755083996\n",
      "Epoch: 4 \tLoss: 0.347589594843 \tTraining Accuracy: 88.353591160221 \t Validation Accuracy: 88.505747126437\n",
      "Epoch: 5 \tLoss: 0.343553224517 \tTraining Accuracy: 88.419889502762 \t Validation Accuracy: 88.594164456233\n",
      "Epoch: 6 \tLoss: 0.272513266564 \tTraining Accuracy: 91.204419889503 \t Validation Accuracy: 89.832007073386\n"
     ]
    }
   ],
   "source": [
    "###########################################################################################\n",
    "############### Train a pretrained resnext50 model on the whole data set ##################\n",
    "###########################################################################################\n",
    "torch.manual_seed(random_seed) # fix the random seed\n",
    "model = torchvision.models.resnext50_32x4d(pretrained=True)\n",
    "\n",
    "# for param in model.parameters():\n",
    "#     param.requires_grad = False\n",
    "\n",
    "# set the final linear layer to the number of classes of the problem\n",
    "num_ftrs = model.fc.in_features\n",
    "model.fc = nn.Linear(num_ftrs, 5)\n",
    "model = model.to(device)\n",
    "criterion = nn.CrossEntropyLoss()\n",
    "\n",
    "optimizer = torch.optim.Adam(model.parameters(), lr=1e-4, weight_decay=3e-3)\n",
    "# a cosine Learning rate scheduler\n",
    "lr_sch = torch.optim.lr_scheduler.CosineAnnealingLR(optimizer, T_max=10, eta_min=0, last_epoch=-1, verbose=False)\n",
    "num_epochs = 7\n",
    "losses, train_score, valid_score= train(model, criterion, train_loader, valid_loader ,optimizer, num_epochs)\n",
    "# Best validation accuecay was about 89.8% while the training accuracy was 91.2%, the model is overfitting"
   ]
  },
  {
   "cell_type": "code",
   "execution_count": null,
   "metadata": {
    "colab": {
     "base_uri": "https://localhost:8080/",
     "height": 557
    },
    "id": "rMS-Jf69vpqI",
    "outputId": "e60aee32-ca69-45c1-8b96-d98449a09e9d"
   },
   "outputs": [
    {
     "data": {
      "image/png": "[encoded data removed]",
      "text/plain": [
       "<Figure size 432x288 with 1 Axes>"
      ]
     },
     "metadata": {
      "needs_background": "light",
      "tags": []
     },
     "output_type": "display_data"
    },
    {
     "data": {
      "image/png": "[encoded data removed]",
      "text/plain": [
       "<Figure size 432x288 with 1 Axes>"
      ]
     },
     "metadata": {
      "needs_background": "light",
      "tags": []
     },
     "output_type": "display_data"
    }
   ],
   "source": [
    "plot(losses, train_score, valid_score) # plot the training dynamics\n",
    "###########################################################################################\n",
    "###########################################################################################"
   ]
  },
  {
   "cell_type": "code",
   "execution_count": null,
   "metadata": {
    "colab": {
     "base_uri": "https://localhost:8080/"
    },
    "id": "ggchc2P7Qr-M",
    "outputId": "c2aa3b9b-daf4-411f-f10c-02d7ffebe975"
   },
   "outputs": [
    {
     "data": {
      "text/plain": [
       "{0: 'cgm', 1: 'cbsd', 2: 'healthy', 3: 'cbb', 4: 'cmd'}"
      ]
     },
     "execution_count": 18,
     "metadata": {
      "tags": []
     },
     "output_type": "execute_result"
    }
   ],
   "source": [
    "# A dictionary that maps the labels to the classes names\n",
    "classes_dict = {i:class_ for i, class_ in zip(range(5), train_data.classes)}"
   ]
  },
  {
   "cell_type": "code",
   "execution_count": null,
   "metadata": {
    "id": "JTvBil7U1fxv"
   },
   "outputs": [],
   "source": [
    "# precition function\n",
    "def predict(model, test_loader):\n",
    "  model.eval()\n",
    "  with torch.no_grad():\n",
    "    preds = []\n",
    "    # i = 0\n",
    "    for img, label in test_loader:\n",
    "      # i += 1\n",
    "      outputs = model(torch.unsqueeze(img.to(device=device), dim=0))\n",
    "      pred = torch.argmax(outputs, dim=1)\n",
    "      preds.append(classes_dict[pred.item()])\n",
    "  return preds"
   ]
  },
  {
   "cell_type": "code",
   "execution_count": null,
   "metadata": {},
   "outputs": [],
   "source": [
    "model = torchvision.models.resnext50_32x4d(pretrained=True) # define your model architecture\n",
    "num_ftrs = model.fc.in_features\n",
    "model.fc = nn.Linear(num_ftrs, 5)\n",
    "model = model.to(device)\n",
    "\n",
    "model.load_state_dict(torch.load(\"model.ckpt\")) # load the saved model state, which includes the final parameters\n",
    "preds = predict(model, test_data) "
   ]
  },
  {
   "cell_type": "code",
   "execution_count": null,
   "metadata": {},
   "outputs": [],
   "source": [
    "filenames = [filename[2].split('/')[-1] for filename in test_data.file_list] # extract the filenames"
   ]
  },
  {
   "cell_type": "code",
   "execution_count": null,
   "metadata": {
    "id": "juiEyEZZQix5"
   },
   "outputs": [],
   "source": [
    "# make a submission file in the current directory\n",
    "import pandas as pd\n",
    "submission = (pd.DataFrame.from_dict({'Category': preds,'Id': filenames}))\n",
    "sub_file = \"first_submission.csv\"\n",
    "submission.to_csv(sub_file, header=True, index=False)"
   ]
  }
 ],
 "metadata": {
  "accelerator": "GPU",
  "colab": {
   "collapsed_sections": [],
   "name": "CassvaDiseaseClassification.ipynb",
   "provenance": []
  },
  "kernelspec": {
   "display_name": "Python 3",
   "language": "python",
   "name": "python3"
  },
  "language_info": {
   "codemirror_mode": {
    "name": "ipython",
    "version": 3
   },
   "file_extension": ".py",
   "mimetype": "text/x-python",
   "name": "python",
   "nbconvert_exporter": "python",
   "pygments_lexer": "ipython3",
   "version": "3.8.5"
  },
  "widgets": {
   "application/vnd.jupyter.widget-state+json": {
    "38e555a271a14d729cae8b53544df902": {
     "model_module": "@jupyter-widgets/base",
     "model_name": "LayoutModel",
     "state": {
      "_model_module": "@jupyter-widgets/base",
      "_model_module_version": "1.2.0",
      "_model_name": "LayoutModel",
      "_view_count": null,
      "_view_module": "@jupyter-widgets/base",
      "_view_module_version": "1.2.0",
      "_view_name": "LayoutView",
      "align_content": null,
      "align_items": null,
      "align_self": null,
      "border": null,
      "bottom": null,
      "display": null,
      "flex": null,
      "flex_flow": null,
      "grid_area": null,
      "grid_auto_columns": null,
      "grid_auto_flow": null,
      "grid_auto_rows": null,
      "grid_column": null,
      "grid_gap": null,
      "grid_row": null,
      "grid_template_areas": null,
      "grid_template_columns": null,
      "grid_template_rows": null,
      "height": null,
      "justify_content": null,
      "justify_items": null,
      "left": null,
      "margin": null,
      "max_height": null,
      "max_width": null,
      "min_height": null,
      "min_width": null,
      "object_fit": null,
      "object_position": null,
      "order": null,
      "overflow": null,
      "overflow_x": null,
      "overflow_y": null,
      "padding": null,
      "right": null,
      "top": null,
      "visibility": null,
      "width": null
     }
    },
    "58341c5703664269a59c38f4cca2577d": {
     "model_module": "@jupyter-widgets/base",
     "model_name": "LayoutModel",
     "state": {
      "_model_module": "@jupyter-widgets/base",
      "_model_module_version": "1.2.0",
      "_model_name": "LayoutModel",
      "_view_count": null,
      "_view_module": "@jupyter-widgets/base",
      "_view_module_version": "1.2.0",
      "_view_name": "LayoutView",
      "align_content": null,
      "align_items": null,
      "align_self": null,
      "border": null,
      "bottom": null,
      "display": null,
      "flex": null,
      "flex_flow": null,
      "grid_area": null,
      "grid_auto_columns": null,
      "grid_auto_flow": null,
      "grid_auto_rows": null,
      "grid_column": null,
      "grid_gap": null,
      "grid_row": null,
      "grid_template_areas": null,
      "grid_template_columns": null,
      "grid_template_rows": null,
      "height": null,
      "justify_content": null,
      "justify_items": null,
      "left": null,
      "margin": null,
      "max_height": null,
      "max_width": null,
      "min_height": null,
      "min_width": null,
      "object_fit": null,
      "object_position": null,
      "order": null,
      "overflow": null,
      "overflow_x": null,
      "overflow_y": null,
      "padding": null,
      "right": null,
      "top": null,
      "visibility": null,
      "width": null
     }
    },
    "5c7da0bd6d774af3b65944ace1fd32ef": {
     "model_module": "@jupyter-widgets/controls",
     "model_name": "FloatProgressModel",
     "state": {
      "_dom_classes": [],
      "_model_module": "@jupyter-widgets/controls",
      "_model_module_version": "1.5.0",
      "_model_name": "FloatProgressModel",
      "_view_count": null,
      "_view_module": "@jupyter-widgets/controls",
      "_view_module_version": "1.5.0",
      "_view_name": "ProgressView",
      "bar_style": "success",
      "description": "100%",
      "description_tooltip": null,
      "layout": "IPY_MODEL_710d167f85e745a1b93dfb7779b4f5e3",
      "max": 100441675,
      "min": 0,
      "orientation": "horizontal",
      "style": "IPY_MODEL_862be8bc22de49a68d2b9ff4ade81cfa",
      "value": 100441675
     }
    },
    "6bd48104738145cd938f70c91a51cd5d": {
     "model_module": "@jupyter-widgets/controls",
     "model_name": "HBoxModel",
     "state": {
      "_dom_classes": [],
      "_model_module": "@jupyter-widgets/controls",
      "_model_module_version": "1.5.0",
      "_model_name": "HBoxModel",
      "_view_count": null,
      "_view_module": "@jupyter-widgets/controls",
      "_view_module_version": "1.5.0",
      "_view_name": "HBoxView",
      "box_style": "",
      "children": [
       "IPY_MODEL_5c7da0bd6d774af3b65944ace1fd32ef",
       "IPY_MODEL_bd5f94dd32524b8ba59b5503f082ea69"
      ],
      "layout": "IPY_MODEL_38e555a271a14d729cae8b53544df902"
     }
    },
    "710d167f85e745a1b93dfb7779b4f5e3": {
     "model_module": "@jupyter-widgets/base",
     "model_name": "LayoutModel",
     "state": {
      "_model_module": "@jupyter-widgets/base",
      "_model_module_version": "1.2.0",
      "_model_name": "LayoutModel",
      "_view_count": null,
      "_view_module": "@jupyter-widgets/base",
      "_view_module_version": "1.2.0",
      "_view_name": "LayoutView",
      "align_content": null,
      "align_items": null,
      "align_self": null,
      "border": null,
      "bottom": null,
      "display": null,
      "flex": null,
      "flex_flow": null,
      "grid_area": null,
      "grid_auto_columns": null,
      "grid_auto_flow": null,
      "grid_auto_rows": null,
      "grid_column": null,
      "grid_gap": null,
      "grid_row": null,
      "grid_template_areas": null,
      "grid_template_columns": null,
      "grid_template_rows": null,
      "height": null,
      "justify_content": null,
      "justify_items": null,
      "left": null,
      "margin": null,
      "max_height": null,
      "max_width": null,
      "min_height": null,
      "min_width": null,
      "object_fit": null,
      "object_position": null,
      "order": null,
      "overflow": null,
      "overflow_x": null,
      "overflow_y": null,
      "padding": null,
      "right": null,
      "top": null,
      "visibility": null,
      "width": null
     }
    },
    "7446e7acdb7e451db354b8142c585605": {
     "model_module": "@jupyter-widgets/controls",
     "model_name": "DescriptionStyleModel",
     "state": {
      "_model_module": "@jupyter-widgets/controls",
      "_model_module_version": "1.5.0",
      "_model_name": "DescriptionStyleModel",
      "_view_count": null,
      "_view_module": "@jupyter-widgets/base",
      "_view_module_version": "1.2.0",
      "_view_name": "StyleView",
      "description_width": ""
     }
    },
    "862be8bc22de49a68d2b9ff4ade81cfa": {
     "model_module": "@jupyter-widgets/controls",
     "model_name": "ProgressStyleModel",
     "state": {
      "_model_module": "@jupyter-widgets/controls",
      "_model_module_version": "1.5.0",
      "_model_name": "ProgressStyleModel",
      "_view_count": null,
      "_view_module": "@jupyter-widgets/base",
      "_view_module_version": "1.2.0",
      "_view_name": "StyleView",
      "bar_color": null,
      "description_width": "initial"
     }
    },
    "bd5f94dd32524b8ba59b5503f082ea69": {
     "model_module": "@jupyter-widgets/controls",
     "model_name": "HTMLModel",
     "state": {
      "_dom_classes": [],
      "_model_module": "@jupyter-widgets/controls",
      "_model_module_version": "1.5.0",
      "_model_name": "HTMLModel",
      "_view_count": null,
      "_view_module": "@jupyter-widgets/controls",
      "_view_module_version": "1.5.0",
      "_view_name": "HTMLView",
      "description": "",
      "description_tooltip": null,
      "layout": "IPY_MODEL_58341c5703664269a59c38f4cca2577d",
      "placeholder": "​",
      "style": "IPY_MODEL_7446e7acdb7e451db354b8142c585605",
      "value": " 95.8M/95.8M [00:02&lt;00:00, 37.9MB/s]"
     }
    }
   }
  }
 },
 "nbformat": 4,
 "nbformat_minor": 4
}
